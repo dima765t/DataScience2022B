{
 "cells": [
  {
   "cell_type": "markdown",
   "metadata": {},
   "source": [
    "# Identify:\n",
    "\n",
    "Please fill-in your ID in the following cell, **only id numbers, no names!**\n"
   ]
  },
  {
   "cell_type": "code",
   "execution_count": 1,
   "metadata": {},
   "outputs": [],
   "source": [
    "id1 = \"314144148\""
   ]
  },
  {
   "cell_type": "code",
   "execution_count": 2,
   "metadata": {},
   "outputs": [
    {
     "ename": "NameError",
     "evalue": "name 'pd' is not defined",
     "output_type": "error",
     "traceback": [
      "\u001b[1;31m---------------------------------------------------------------------------\u001b[0m",
      "\u001b[1;31mNameError\u001b[0m                                 Traceback (most recent call last)",
      "Input \u001b[1;32mIn [2]\u001b[0m, in \u001b[0;36m<cell line: 1>\u001b[1;34m()\u001b[0m\n\u001b[1;32m----> 1\u001b[0m df \u001b[38;5;241m=\u001b[39m \u001b[43mpd\u001b[49m\u001b[38;5;241m.\u001b[39mDataFrame([id1])\n",
      "\u001b[1;31mNameError\u001b[0m: name 'pd' is not defined"
     ]
    }
   ],
   "source": [
    "df = pd.DataFrame([id1])"
   ]
  },
  {
   "cell_type": "markdown",
   "metadata": {},
   "source": [
    "Uncomment in case two students are doing the assignment together:"
   ]
  },
  {
   "cell_type": "code",
   "execution_count": 3,
   "metadata": {},
   "outputs": [],
   "source": [
    "#df = pd.DataFrame([id1,id2])"
   ]
  },
  {
   "cell_type": "code",
   "execution_count": 4,
   "metadata": {},
   "outputs": [
    {
     "ename": "NameError",
     "evalue": "name 'df' is not defined",
     "output_type": "error",
     "traceback": [
      "\u001b[1;31m---------------------------------------------------------------------------\u001b[0m",
      "\u001b[1;31mNameError\u001b[0m                                 Traceback (most recent call last)",
      "Input \u001b[1;32mIn [4]\u001b[0m, in \u001b[0;36m<cell line: 1>\u001b[1;34m()\u001b[0m\n\u001b[1;32m----> 1\u001b[0m \u001b[43mdf\u001b[49m\u001b[38;5;241m.\u001b[39mto_clipboard(index\u001b[38;5;241m=\u001b[39m\u001b[38;5;28;01mFalse\u001b[39;00m,header\u001b[38;5;241m=\u001b[39m\u001b[38;5;28;01mFalse\u001b[39;00m)\n",
      "\u001b[1;31mNameError\u001b[0m: name 'df' is not defined"
     ]
    }
   ],
   "source": [
    "df.to_clipboard(index=False,header=False)"
   ]
  },
  {
   "cell_type": "markdown",
   "metadata": {},
   "source": [
    "Please fill your names here:"
   ]
  },
  {
   "cell_type": "markdown",
   "metadata": {},
   "source": [
    "Dima Levin"
   ]
  },
  {
   "cell_type": "markdown",
   "metadata": {},
   "source": [
    "---"
   ]
  },
  {
   "cell_type": "markdown",
   "metadata": {},
   "source": [
    "----"
   ]
  },
  {
   "cell_type": "markdown",
   "metadata": {},
   "source": [
    "# Write your answers here\n",
    "\n",
    "add as much lines of code and markdown as you need for each answer"
   ]
  },
  {
   "cell_type": "markdown",
   "metadata": {},
   "source": [
    "# Q1 "
   ]
  },
  {
   "cell_type": "code",
   "execution_count": 5,
   "metadata": {},
   "outputs": [
    {
     "data": {
      "text/plain": [
       "Index(['location', 'iso_code', 'date', 'total_vaccinations',\n",
       "       'people_vaccinated', 'people_fully_vaccinated', 'total_boosters',\n",
       "       'daily_vaccinations_raw', 'daily_vaccinations',\n",
       "       'total_vaccinations_per_hundred', 'people_vaccinated_per_hundred',\n",
       "       'people_fully_vaccinated_per_hundred', 'total_boosters_per_hundred',\n",
       "       'daily_vaccinations_per_million', 'daily_people_vaccinated',\n",
       "       'daily_people_vaccinated_per_hundred'],\n",
       "      dtype='object')"
      ]
     },
     "execution_count": 5,
     "metadata": {},
     "output_type": "execute_result"
    }
   ],
   "source": [
    "import numpy as np\n",
    "import pandas as pd\n",
    "url = 'https://raw.githubusercontent.com/owid/covid-19-data/master/public/data/vaccinations/vaccinations.csv'\n",
    "vacc_df = pd.read_csv(url)\n",
    "vacc_df.columns"
   ]
  },
  {
   "cell_type": "code",
   "execution_count": 6,
   "metadata": {},
   "outputs": [
    {
     "data": {
      "text/plain": [
       "9134"
      ]
     },
     "execution_count": 6,
     "metadata": {},
     "output_type": "execute_result"
    }
   ],
   "source": [
    "vacc_df['date'] = pd.to_datetime(vacc_df['date'])\n",
    "vacc_df['month'] = pd.DatetimeIndex(vacc_df['date']).month\n",
    "my_month = vacc_df.loc[(vacc_df.month == 7)]\n",
    "len(my_month)"
   ]
  },
  {
   "cell_type": "markdown",
   "metadata": {},
   "source": [
    " # Q2"
   ]
  },
  {
   "cell_type": "code",
   "execution_count": 7,
   "metadata": {},
   "outputs": [
    {
     "data": {
      "text/html": [
       "<div>\n",
       "<style scoped>\n",
       "    .dataframe tbody tr th:only-of-type {\n",
       "        vertical-align: middle;\n",
       "    }\n",
       "\n",
       "    .dataframe tbody tr th {\n",
       "        vertical-align: top;\n",
       "    }\n",
       "\n",
       "    .dataframe thead th {\n",
       "        text-align: right;\n",
       "    }\n",
       "</style>\n",
       "<table border=\"1\" class=\"dataframe\">\n",
       "  <thead>\n",
       "    <tr style=\"text-align: right;\">\n",
       "      <th></th>\n",
       "      <th>location</th>\n",
       "      <th>daily_vaccinations</th>\n",
       "    </tr>\n",
       "  </thead>\n",
       "  <tbody>\n",
       "    <tr>\n",
       "      <th>0</th>\n",
       "      <td>Afghanistan</td>\n",
       "      <td>NaN</td>\n",
       "    </tr>\n",
       "    <tr>\n",
       "      <th>1</th>\n",
       "      <td>Afghanistan</td>\n",
       "      <td>1367.0</td>\n",
       "    </tr>\n",
       "    <tr>\n",
       "      <th>2</th>\n",
       "      <td>Afghanistan</td>\n",
       "      <td>1367.0</td>\n",
       "    </tr>\n",
       "    <tr>\n",
       "      <th>3</th>\n",
       "      <td>Afghanistan</td>\n",
       "      <td>1367.0</td>\n",
       "    </tr>\n",
       "    <tr>\n",
       "      <th>4</th>\n",
       "      <td>Afghanistan</td>\n",
       "      <td>1367.0</td>\n",
       "    </tr>\n",
       "    <tr>\n",
       "      <th>...</th>\n",
       "      <td>...</td>\n",
       "      <td>...</td>\n",
       "    </tr>\n",
       "    <tr>\n",
       "      <th>114887</th>\n",
       "      <td>Zimbabwe</td>\n",
       "      <td>10797.0</td>\n",
       "    </tr>\n",
       "    <tr>\n",
       "      <th>114888</th>\n",
       "      <td>Zimbabwe</td>\n",
       "      <td>10821.0</td>\n",
       "    </tr>\n",
       "    <tr>\n",
       "      <th>114889</th>\n",
       "      <td>Zimbabwe</td>\n",
       "      <td>10727.0</td>\n",
       "    </tr>\n",
       "    <tr>\n",
       "      <th>114890</th>\n",
       "      <td>Zimbabwe</td>\n",
       "      <td>10776.0</td>\n",
       "    </tr>\n",
       "    <tr>\n",
       "      <th>114891</th>\n",
       "      <td>Zimbabwe</td>\n",
       "      <td>10180.0</td>\n",
       "    </tr>\n",
       "  </tbody>\n",
       "</table>\n",
       "<p>114892 rows × 2 columns</p>\n",
       "</div>"
      ],
      "text/plain": [
       "           location  daily_vaccinations\n",
       "0       Afghanistan                 NaN\n",
       "1       Afghanistan              1367.0\n",
       "2       Afghanistan              1367.0\n",
       "3       Afghanistan              1367.0\n",
       "4       Afghanistan              1367.0\n",
       "...             ...                 ...\n",
       "114887     Zimbabwe             10797.0\n",
       "114888     Zimbabwe             10821.0\n",
       "114889     Zimbabwe             10727.0\n",
       "114890     Zimbabwe             10776.0\n",
       "114891     Zimbabwe             10180.0\n",
       "\n",
       "[114892 rows x 2 columns]"
      ]
     },
     "execution_count": 7,
     "metadata": {},
     "output_type": "execute_result"
    }
   ],
   "source": [
    "vacc_df['daily_vaccinations'].dropna()\n",
    "vacc_df[['location','daily_vaccinations']]"
   ]
  },
  {
   "cell_type": "code",
   "execution_count": 8,
   "metadata": {},
   "outputs": [
    {
     "data": {
      "text/html": [
       "<div>\n",
       "<style scoped>\n",
       "    .dataframe tbody tr th:only-of-type {\n",
       "        vertical-align: middle;\n",
       "    }\n",
       "\n",
       "    .dataframe tbody tr th {\n",
       "        vertical-align: top;\n",
       "    }\n",
       "\n",
       "    .dataframe thead th {\n",
       "        text-align: right;\n",
       "    }\n",
       "</style>\n",
       "<table border=\"1\" class=\"dataframe\">\n",
       "  <thead>\n",
       "    <tr style=\"text-align: right;\">\n",
       "      <th></th>\n",
       "      <th>location</th>\n",
       "      <th>people_vaccinated_per_hundred</th>\n",
       "    </tr>\n",
       "  </thead>\n",
       "  <tbody>\n",
       "    <tr>\n",
       "      <th>0</th>\n",
       "      <td>Afghanistan</td>\n",
       "      <td>0.00</td>\n",
       "    </tr>\n",
       "    <tr>\n",
       "      <th>1</th>\n",
       "      <td>Afghanistan</td>\n",
       "      <td>0.00</td>\n",
       "    </tr>\n",
       "    <tr>\n",
       "      <th>2</th>\n",
       "      <td>Afghanistan</td>\n",
       "      <td>0.00</td>\n",
       "    </tr>\n",
       "    <tr>\n",
       "      <th>3</th>\n",
       "      <td>Afghanistan</td>\n",
       "      <td>0.00</td>\n",
       "    </tr>\n",
       "    <tr>\n",
       "      <th>4</th>\n",
       "      <td>Afghanistan</td>\n",
       "      <td>0.00</td>\n",
       "    </tr>\n",
       "    <tr>\n",
       "      <th>...</th>\n",
       "      <td>...</td>\n",
       "      <td>...</td>\n",
       "    </tr>\n",
       "    <tr>\n",
       "      <th>114887</th>\n",
       "      <td>Zimbabwe</td>\n",
       "      <td>39.54</td>\n",
       "    </tr>\n",
       "    <tr>\n",
       "      <th>114888</th>\n",
       "      <td>Zimbabwe</td>\n",
       "      <td>39.54</td>\n",
       "    </tr>\n",
       "    <tr>\n",
       "      <th>114889</th>\n",
       "      <td>Zimbabwe</td>\n",
       "      <td>39.54</td>\n",
       "    </tr>\n",
       "    <tr>\n",
       "      <th>114890</th>\n",
       "      <td>Zimbabwe</td>\n",
       "      <td>39.58</td>\n",
       "    </tr>\n",
       "    <tr>\n",
       "      <th>114891</th>\n",
       "      <td>Zimbabwe</td>\n",
       "      <td>39.59</td>\n",
       "    </tr>\n",
       "  </tbody>\n",
       "</table>\n",
       "<p>114892 rows × 2 columns</p>\n",
       "</div>"
      ],
      "text/plain": [
       "           location  people_vaccinated_per_hundred\n",
       "0       Afghanistan                           0.00\n",
       "1       Afghanistan                           0.00\n",
       "2       Afghanistan                           0.00\n",
       "3       Afghanistan                           0.00\n",
       "4       Afghanistan                           0.00\n",
       "...             ...                            ...\n",
       "114887     Zimbabwe                          39.54\n",
       "114888     Zimbabwe                          39.54\n",
       "114889     Zimbabwe                          39.54\n",
       "114890     Zimbabwe                          39.58\n",
       "114891     Zimbabwe                          39.59\n",
       "\n",
       "[114892 rows x 2 columns]"
      ]
     },
     "execution_count": 8,
     "metadata": {},
     "output_type": "execute_result"
    }
   ],
   "source": [
    "vacc_df.groupby('location')[['location','people_vaccinated_per_hundred']].fillna(method= 'ffill')\n",
    "##vacc_df[['location','people_vaccinated_per_hundred']]"
   ]
  },
  {
   "cell_type": "markdown",
   "metadata": {},
   "source": [
    "# Q3"
   ]
  },
  {
   "cell_type": "code",
   "execution_count": 9,
   "metadata": {},
   "outputs": [
    {
     "data": {
      "text/plain": [
       "daily_vaccinations    31122045.0\n",
       "dtype: float64"
      ]
     },
     "execution_count": 9,
     "metadata": {},
     "output_type": "execute_result"
    }
   ],
   "source": [
    "vacc_df['date'] = pd.to_datetime(vacc_df['date'])\n",
    "vacc_df['month'] = pd.DatetimeIndex(vacc_df['date']).month\n",
    "my_month_df= vacc_df.loc[(vacc_df['iso_code'] != 'OWID_WRL') & (vacc_df['month'] == 7)] \n",
    "##max_month= my_month_df[['location','date','daily_vaccinations']]\n",
    "max_month= my_month_df[['daily_vaccinations']].max()\n",
    "max_month"
   ]
  },
  {
   "cell_type": "markdown",
   "metadata": {},
   "source": [
    "# Q4"
   ]
  },
  {
   "cell_type": "code",
   "execution_count": 61,
   "metadata": {},
   "outputs": [
    {
     "data": {
      "text/plain": [
       "608854.3196571589"
      ]
     },
     "execution_count": 61,
     "metadata": {},
     "output_type": "execute_result"
    }
   ],
   "source": [
    "vacc_df['date'] = pd.to_datetime(vacc_df['date'])\n",
    "vacc_df['month'] = pd.DatetimeIndex(vacc_df['date']).month\n",
    "my_month = vacc_df.loc[(vacc_df.month == 7)]\n",
    "my_month['daily_vaccinations'].mean()"
   ]
  },
  {
   "cell_type": "code",
   "execution_count": 62,
   "metadata": {},
   "outputs": [
    {
     "data": {
      "text/plain": [
       "8798.0"
      ]
     },
     "execution_count": 62,
     "metadata": {},
     "output_type": "execute_result"
    }
   ],
   "source": [
    "my_month['daily_vaccinations'].median()"
   ]
  },
  {
   "cell_type": "markdown",
   "metadata": {},
   "source": [
    "# Q5"
   ]
  },
  {
   "cell_type": "code",
   "execution_count": 89,
   "metadata": {},
   "outputs": [
    {
     "data": {
      "text/html": [
       "<div>\n",
       "<style scoped>\n",
       "    .dataframe tbody tr th:only-of-type {\n",
       "        vertical-align: middle;\n",
       "    }\n",
       "\n",
       "    .dataframe tbody tr th {\n",
       "        vertical-align: top;\n",
       "    }\n",
       "\n",
       "    .dataframe thead th {\n",
       "        text-align: right;\n",
       "    }\n",
       "</style>\n",
       "<table border=\"1\" class=\"dataframe\">\n",
       "  <thead>\n",
       "    <tr style=\"text-align: right;\">\n",
       "      <th></th>\n",
       "      <th>location</th>\n",
       "      <th>date</th>\n",
       "      <th>people_vaccinated_per_hundred</th>\n",
       "    </tr>\n",
       "  </thead>\n",
       "  <tbody>\n",
       "    <tr>\n",
       "      <th>24819</th>\n",
       "      <td>Israel</td>\n",
       "      <td>2021-07-01</td>\n",
       "      <td>63.99</td>\n",
       "    </tr>\n",
       "    <tr>\n",
       "      <th>24820</th>\n",
       "      <td>Israel</td>\n",
       "      <td>2021-07-02</td>\n",
       "      <td>64.10</td>\n",
       "    </tr>\n",
       "    <tr>\n",
       "      <th>24821</th>\n",
       "      <td>Israel</td>\n",
       "      <td>2021-07-03</td>\n",
       "      <td>64.13</td>\n",
       "    </tr>\n",
       "    <tr>\n",
       "      <th>24822</th>\n",
       "      <td>Israel</td>\n",
       "      <td>2021-07-04</td>\n",
       "      <td>64.33</td>\n",
       "    </tr>\n",
       "    <tr>\n",
       "      <th>24823</th>\n",
       "      <td>Israel</td>\n",
       "      <td>2021-07-05</td>\n",
       "      <td>64.53</td>\n",
       "    </tr>\n",
       "    <tr>\n",
       "      <th>24824</th>\n",
       "      <td>Israel</td>\n",
       "      <td>2021-07-06</td>\n",
       "      <td>64.74</td>\n",
       "    </tr>\n",
       "  </tbody>\n",
       "</table>\n",
       "</div>"
      ],
      "text/plain": [
       "      location       date  people_vaccinated_per_hundred\n",
       "24819   Israel 2021-07-01                          63.99\n",
       "24820   Israel 2021-07-02                          64.10\n",
       "24821   Israel 2021-07-03                          64.13\n",
       "24822   Israel 2021-07-04                          64.33\n",
       "24823   Israel 2021-07-05                          64.53\n",
       "24824   Israel 2021-07-06                          64.74"
      ]
     },
     "execution_count": 89,
     "metadata": {},
     "output_type": "execute_result"
    }
   ],
   "source": [
    "vacc_df['date'] = pd.to_datetime(vacc_df['date'])\n",
    "vacc_df['month'] = pd.DatetimeIndex(vacc_df.date).month\n",
    "vacc_df['day'] = pd.DatetimeIndex(vacc_df.date).day\n",
    "first_seven= vacc_df[(vacc_df.location == 'Israel') & (vacc_df.month == 7) & (vacc_df.day > 0) & (vacc_df.day < 7)]\n",
    "first_seven[['location','date','people_vaccinated_per_hundred']]"
   ]
  },
  {
   "cell_type": "markdown",
   "metadata": {},
   "source": [
    "# Q6"
   ]
  },
  {
   "cell_type": "code",
   "execution_count": 6,
   "metadata": {},
   "outputs": [
    {
     "data": {
      "text/html": [
       "<div>\n",
       "<style scoped>\n",
       "    .dataframe tbody tr th:only-of-type {\n",
       "        vertical-align: middle;\n",
       "    }\n",
       "\n",
       "    .dataframe tbody tr th {\n",
       "        vertical-align: top;\n",
       "    }\n",
       "\n",
       "    .dataframe thead th {\n",
       "        text-align: right;\n",
       "    }\n",
       "</style>\n",
       "<table border=\"1\" class=\"dataframe\">\n",
       "  <thead>\n",
       "    <tr style=\"text-align: right;\">\n",
       "      <th></th>\n",
       "      <th>date</th>\n",
       "      <th>people_vaccinated_per_hundred</th>\n",
       "    </tr>\n",
       "    <tr>\n",
       "      <th>location</th>\n",
       "      <th></th>\n",
       "      <th></th>\n",
       "    </tr>\n",
       "  </thead>\n",
       "  <tbody>\n",
       "    <tr>\n",
       "      <th>Gibraltar</th>\n",
       "      <td>2021-07-31</td>\n",
       "      <td>116.77</td>\n",
       "    </tr>\n",
       "    <tr>\n",
       "      <th>Pitcairn</th>\n",
       "      <td>2021-07-31</td>\n",
       "      <td>100.00</td>\n",
       "    </tr>\n",
       "    <tr>\n",
       "      <th>Iceland</th>\n",
       "      <td>2021-07-31</td>\n",
       "      <td>78.37</td>\n",
       "    </tr>\n",
       "  </tbody>\n",
       "</table>\n",
       "</div>"
      ],
      "text/plain": [
       "                date  people_vaccinated_per_hundred\n",
       "location                                           \n",
       "Gibraltar 2021-07-31                         116.77\n",
       "Pitcairn  2021-07-31                         100.00\n",
       "Iceland   2021-07-31                          78.37"
      ]
     },
     "execution_count": 6,
     "metadata": {},
     "output_type": "execute_result"
    }
   ],
   "source": [
    "vacc_df['date'] = pd.to_datetime(vacc_df['date'])\n",
    "vacc_df['month'] = pd.DatetimeIndex(vacc_df.date).month\n",
    "max_three= vacc_df[(vacc_df.iso_code != 'OWID_WRL') & (vacc_df.month == 7)]\n",
    "grouped_df= max_three.groupby('location')[['date','people_vaccinated_per_hundred']].max().copy()\n",
    "grouped_df.sort_values('people_vaccinated_per_hundred', ascending= False).head(3)"
   ]
  },
  {
   "cell_type": "markdown",
   "metadata": {},
   "source": [
    "# Q7"
   ]
  },
  {
   "cell_type": "code",
   "execution_count": null,
   "metadata": {},
   "outputs": [],
   "source": []
  },
  {
   "cell_type": "markdown",
   "metadata": {},
   "source": [
    "---\n",
    "# GOOD LUCK !!!!\n",
    "---"
   ]
  },
  {
   "cell_type": "code",
   "execution_count": null,
   "metadata": {},
   "outputs": [],
   "source": [
    "# do not type below this line"
   ]
  }
 ],
 "metadata": {
  "kernelspec": {
   "display_name": "Python 3 (ipykernel)",
   "language": "python",
   "name": "python3"
  },
  "language_info": {
   "codemirror_mode": {
    "name": "ipython",
    "version": 3
   },
   "file_extension": ".py",
   "mimetype": "text/x-python",
   "name": "python",
   "nbconvert_exporter": "python",
   "pygments_lexer": "ipython3",
   "version": "3.8.8"
  }
 },
 "nbformat": 4,
 "nbformat_minor": 4
}
