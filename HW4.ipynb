{
 "cells": [
  {
   "cell_type": "markdown",
   "id": "428185fb-291f-4f9f-beb2-9381d7502b9f",
   "metadata": {},
   "source": [
    "INTRO"
   ]
  },
  {
   "cell_type": "code",
   "execution_count": 48,
   "id": "f8e48fff-ff3c-4def-bed9-16e59d5ef43b",
   "metadata": {},
   "outputs": [],
   "source": [
    "import pandas as pd\n",
    "import numpy as np\n",
    "import matplotlib.pyplot as plt\n",
    "import seaborn as sns\n",
    "import sklearn as sk\n",
    "from sklearn import tree\n",
    "from sklearn.tree import DecisionTreeClassifier\n",
    "from sklearn.tree import DecisionTreeRegressor\n",
    "from sklearn.model_selection import train_test_split\n",
    "from sklearn.metrics import mean_squared_error as mse"
   ]
  },
  {
   "cell_type": "code",
   "execution_count": 49,
   "id": "7bbfcd99-1883-40f5-a8fe-bd1a782c7c3e",
   "metadata": {},
   "outputs": [
    {
     "name": "stdout",
     "output_type": "stream",
     "text": [
      "<class 'pandas.core.frame.DataFrame'>\n",
      "RangeIndex: 458 entries, 0 to 457\n",
      "Data columns (total 9 columns):\n",
      " #   Column    Non-Null Count  Dtype  \n",
      "---  ------    --------------  -----  \n",
      " 0   Name      457 non-null    object \n",
      " 1   Team      457 non-null    object \n",
      " 2   Number    457 non-null    float64\n",
      " 3   Position  457 non-null    object \n",
      " 4   Age       457 non-null    float64\n",
      " 5   Height    457 non-null    object \n",
      " 6   Weight    457 non-null    float64\n",
      " 7   College   373 non-null    object \n",
      " 8   Salary    446 non-null    float64\n",
      "dtypes: float64(4), object(5)\n",
      "memory usage: 32.3+ KB\n"
     ]
    }
   ],
   "source": [
    "url = 'nba.csv'\n",
    "data = pd.read_csv(url)\n",
    "data.info()"
   ]
  },
  {
   "cell_type": "markdown",
   "id": "8e3bba85-d005-4b38-b6d2-a7385d413537",
   "metadata": {},
   "source": [
    "Q1"
   ]
  },
  {
   "cell_type": "code",
   "execution_count": 50,
   "id": "9a16d6b6-cd8d-4aed-9cea-1f62c48a6928",
   "metadata": {},
   "outputs": [
    {
     "data": {
      "text/html": [
       "<div>\n",
       "<style scoped>\n",
       "    .dataframe tbody tr th:only-of-type {\n",
       "        vertical-align: middle;\n",
       "    }\n",
       "\n",
       "    .dataframe tbody tr th {\n",
       "        vertical-align: top;\n",
       "    }\n",
       "\n",
       "    .dataframe thead th {\n",
       "        text-align: right;\n",
       "    }\n",
       "</style>\n",
       "<table border=\"1\" class=\"dataframe\">\n",
       "  <thead>\n",
       "    <tr style=\"text-align: right;\">\n",
       "      <th></th>\n",
       "      <th>Age</th>\n",
       "      <th>Height</th>\n",
       "      <th>Weight</th>\n",
       "      <th>Salary</th>\n",
       "    </tr>\n",
       "  </thead>\n",
       "  <tbody>\n",
       "    <tr>\n",
       "      <th>0</th>\n",
       "      <td>25.0</td>\n",
       "      <td>6-2</td>\n",
       "      <td>180.0</td>\n",
       "      <td>7730337.0</td>\n",
       "    </tr>\n",
       "    <tr>\n",
       "      <th>1</th>\n",
       "      <td>25.0</td>\n",
       "      <td>6-6</td>\n",
       "      <td>235.0</td>\n",
       "      <td>6796117.0</td>\n",
       "    </tr>\n",
       "    <tr>\n",
       "      <th>3</th>\n",
       "      <td>22.0</td>\n",
       "      <td>6-5</td>\n",
       "      <td>185.0</td>\n",
       "      <td>1148640.0</td>\n",
       "    </tr>\n",
       "  </tbody>\n",
       "</table>\n",
       "</div>"
      ],
      "text/plain": [
       "    Age Height  Weight     Salary\n",
       "0  25.0    6-2   180.0  7730337.0\n",
       "1  25.0    6-6   235.0  6796117.0\n",
       "3  22.0    6-5   185.0  1148640.0"
      ]
     },
     "execution_count": 50,
     "metadata": {},
     "output_type": "execute_result"
    }
   ],
   "source": [
    "fixed= data.dropna()\n",
    "fixed[['Age','Height','Weight','Salary']].head(3)"
   ]
  },
  {
   "cell_type": "markdown",
   "id": "0cf2c7ad-ba47-42cd-bb76-c91a2e3494ba",
   "metadata": {},
   "source": [
    "Q2"
   ]
  },
  {
   "cell_type": "code",
   "execution_count": 51,
   "id": "fd436e9c-05ff-44dc-99cf-4d793863e502",
   "metadata": {},
   "outputs": [
    {
     "data": {
      "text/plain": [
       "0    6.2\n",
       "1    6.6\n",
       "2    6.5\n",
       "Name: Height, dtype: object"
      ]
     },
     "execution_count": 51,
     "metadata": {},
     "output_type": "execute_result"
    }
   ],
   "source": [
    "data['Height']= data['Height'].replace(\"-\", \".\", regex= True)\n",
    "data['Height'].head(3)"
   ]
  },
  {
   "cell_type": "code",
   "execution_count": 52,
   "id": "4f6fb097-ad24-4b39-beba-a012d1f79598",
   "metadata": {},
   "outputs": [
    {
     "data": {
      "text/plain": [
       "<AxesSubplot:xlabel='Position', ylabel='count'>"
      ]
     },
     "execution_count": 52,
     "metadata": {},
     "output_type": "execute_result"
    },
    {
     "data": {
      "image/png": "[encoded data removed]",
      "text/plain": [
       "<Figure size 432x288 with 1 Axes>"
      ]
     },
     "metadata": {
      "needs_background": "light"
     },
     "output_type": "display_data"
    }
   ],
   "source": [
    "sns.countplot(x='Position', data= data)"
   ]
  },
  {
   "cell_type": "code",
   "execution_count": 53,
   "id": "afee458c-0915-428e-838c-e6d35a78d79e",
   "metadata": {},
   "outputs": [
    {
     "data": {
      "text/plain": [
       "<AxesSubplot:ylabel='Position'>"
      ]
     },
     "execution_count": 53,
     "metadata": {},
     "output_type": "execute_result"
    },
    {
     "data": {
      "image/png": "[encoded data removed]",
      "text/plain": [
       "<Figure size 432x288 with 1 Axes>"
      ]
     },
     "metadata": {},
     "output_type": "display_data"
    }
   ],
   "source": [
    "data['Position'].value_counts().plot.pie(autopct='%1.1f%%')"
   ]
  },
  {
   "cell_type": "markdown",
   "id": "46e73fce-64a6-4ee2-b497-fcb284c34b33",
   "metadata": {},
   "source": [
    "Q3"
   ]
  },
  {
   "cell_type": "code",
   "execution_count": 66,
   "id": "faa0d426-2f88-4d60-9992-acf1ec0ec1bc",
   "metadata": {
    "collapsed": true,
    "jupyter": {
     "outputs_hidden": true
    },
    "tags": []
   },
   "outputs": [
    {
     "name": "stderr",
     "output_type": "stream",
     "text": [
      "<ipython-input-66-4774eca3662b>:2: SettingWithCopyWarning: \n",
      "A value is trying to be set on a copy of a slice from a DataFrame.\n",
      "Try using .loc[row_indexer,col_indexer] = value instead\n",
      "\n",
      "See the caveats in the documentation: https://pandas.pydata.org/pandas-docs/stable/user_guide/indexing.html#returning-a-view-versus-a-copy\n",
      "  nba_df['Height']= nba_df['Height'].astype(float)\n",
      "<ipython-input-66-4774eca3662b>:3: SettingWithCopyWarning: \n",
      "A value is trying to be set on a copy of a slice from a DataFrame.\n",
      "Try using .loc[row_indexer,col_indexer] = value instead\n",
      "\n",
      "See the caveats in the documentation: https://pandas.pydata.org/pandas-docs/stable/user_guide/indexing.html#returning-a-view-versus-a-copy\n",
      "  nba_df['Height']= nba_df['Height'].replace('-', '.')\n"
     ]
    }
   ],
   "source": [
    "nba_df= data.dropna(axis=0)\n",
    "nba_df['Height']= nba_df['Height'].astype(float)\n",
    "nba_df['Height']= nba_df['Height'].replace('-', '.')\n",
    "\n",
    "##nba_df.info()\n",
    "##nba_df.head()"
   ]
  },
  {
   "cell_type": "markdown",
   "id": "a38bf1e9-a20d-4323-aad0-6c8b93e396e2",
   "metadata": {},
   "source": [
    "Q4"
   ]
  },
  {
   "cell_type": "code",
   "execution_count": 69,
   "id": "86ebea34-72d4-415c-8b0c-a9a2f98b9c64",
   "metadata": {},
   "outputs": [],
   "source": [
    "features = ['Age', 'Height', 'Weight']\n",
    "X= nba_df[features]\n",
    "y= nba_df['Salary']\n",
    "X_train, X_test, y_train, y_test = sk.model_selection.train_test_split(X, y, test_size= 0.3, random_state= 42)"
   ]
  },
  {
   "cell_type": "code",
   "execution_count": 72,
   "id": "eef2080d-89af-4ada-b7a8-3023124ee8aa",
   "metadata": {},
   "outputs": [
    {
     "data": {
      "text/plain": [
       "0    7730337.0\n",
       "1    6796117.0\n",
       "3    1148640.0\n",
       "6    1170960.0\n",
       "7    2165160.0\n",
       "Name: Salary, dtype: float64"
      ]
     },
     "execution_count": 72,
     "metadata": {},
     "output_type": "execute_result"
    }
   ],
   "source": [
    "X.head()\n",
    "y.head()"
   ]
  },
  {
   "cell_type": "markdown",
   "id": "fe585dfc-c634-43ca-be30-8ccf52d8a65d",
   "metadata": {},
   "source": [
    "Q5"
   ]
  },
  {
   "cell_type": "code",
   "execution_count": 76,
   "id": "70cd0b82-244b-413c-93d2-a401300f9331",
   "metadata": {
    "tags": []
   },
   "outputs": [],
   "source": [
    "model = sk.tree.DecisionTreeClassifier(random_state = 0) ##מודל שמתאים לחיזוי סיווג (לא למספרים)\n",
    "model.fit(X_train, y_train)\n",
    "pred = model.predict(X_test)\n",
    "sk.metrics.accuracy_score(pred, y_test)"
   ]
  },
  {
   "cell_type": "code",
   "execution_count": 80,
   "id": "98cf76da-f0e6-42e3-9290-0232d57ba9d6",
   "metadata": {},
   "outputs": [],
   "source": [
    "model_2 = sk.tree.DecisionTreeClassifier(criterion='gini')\n",
    "model_2.fit(X,y)\n",
    "txt_rps = tree.export_text(model_2)"
   ]
  },
  {
   "cell_type": "code",
   "execution_count": null,
   "id": "daa756c3-5cc8-426c-a0f3-ceefd0867b7f",
   "metadata": {},
   "outputs": [],
   "source": []
  }
 ],
 "metadata": {
  "kernelspec": {
   "display_name": "Python 3",
   "language": "python",
   "name": "python3"
  },
  "language_info": {
   "codemirror_mode": {
    "name": "ipython",
    "version": 3
   },
   "file_extension": ".py",
   "mimetype": "text/x-python",
   "name": "python",
   "nbconvert_exporter": "python",
   "pygments_lexer": "ipython3",
   "version": "3.8.8"
  }
 },
 "nbformat": 4,
 "nbformat_minor": 5
}
