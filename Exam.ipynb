{
 "cells": [
  {
   "cell_type": "markdown",
   "id": "8bdab299-c4a9-4f6c-966b-270461b7b08c",
   "metadata": {
    "tags": []
   },
   "source": [
    "***\n",
    "### Test Example\n",
    "***"
   ]
  },
  {
   "cell_type": "code",
   "execution_count": 1,
   "id": "f826197c-639e-43b6-9860-163433b96602",
   "metadata": {},
   "outputs": [],
   "source": [
    "import pandas as pd\n",
    "import numpy as np\n",
    "import matplotlib.pyplot as plt\n",
    "import seaborn as sns\n",
    "import sklearn as sk\n",
    "from sklearn import tree\n",
    "from sklearn.tree import DecisionTreeClassifier\n",
    "from sklearn.model_selection import train_test_split\n",
    "from sklearn.metrics import mean_squared_error as mse"
   ]
  },
  {
   "cell_type": "code",
   "execution_count": 2,
   "id": "3bdbe42c-39f0-44f1-b87b-430820f6f9fe",
   "metadata": {},
   "outputs": [
    {
     "name": "stdout",
     "output_type": "stream",
     "text": [
      "<class 'pandas.core.frame.DataFrame'>\n",
      "RangeIndex: 15814 entries, 0 to 15813\n",
      "Data columns (total 9 columns):\n",
      " #   Column           Non-Null Count  Dtype  \n",
      "---  ------           --------------  -----  \n",
      " 0   year             15814 non-null  int64  \n",
      " 1   month            15814 non-null  int64  \n",
      " 2   warning          12775 non-null  object \n",
      " 3   visibility       15814 non-null  object \n",
      " 4   height           15681 non-null  float64\n",
      " 5   speed            15814 non-null  int64  \n",
      " 6   species name     15813 non-null  object \n",
      " 7   injuries         127 non-null    float64\n",
      " 8   aircraft damage  15814 non-null  int64  \n",
      "dtypes: float64(2), int64(4), object(3)\n",
      "memory usage: 1.1+ MB\n"
     ]
    }
   ],
   "source": [
    "url = 'data_file.csv'\n",
    "data = pd.read_csv(url)\n",
    "data.info()"
   ]
  },
  {
   "cell_type": "code",
   "execution_count": 3,
   "id": "1aa40f83-d91d-4663-97f6-20e871c218ec",
   "metadata": {},
   "outputs": [
    {
     "data": {
      "text/html": [
       "<div>\n",
       "<style scoped>\n",
       "    .dataframe tbody tr th:only-of-type {\n",
       "        vertical-align: middle;\n",
       "    }\n",
       "\n",
       "    .dataframe tbody tr th {\n",
       "        vertical-align: top;\n",
       "    }\n",
       "\n",
       "    .dataframe thead th {\n",
       "        text-align: right;\n",
       "    }\n",
       "</style>\n",
       "<table border=\"1\" class=\"dataframe\">\n",
       "  <thead>\n",
       "    <tr style=\"text-align: right;\">\n",
       "      <th></th>\n",
       "      <th>year</th>\n",
       "      <th>month</th>\n",
       "      <th>warning</th>\n",
       "      <th>visibility</th>\n",
       "      <th>height</th>\n",
       "      <th>speed</th>\n",
       "      <th>species name</th>\n",
       "      <th>injuries</th>\n",
       "      <th>aircraft damage</th>\n",
       "    </tr>\n",
       "  </thead>\n",
       "  <tbody>\n",
       "    <tr>\n",
       "      <th>0</th>\n",
       "      <td>1990</td>\n",
       "      <td>1</td>\n",
       "      <td>NaN</td>\n",
       "      <td>DAY</td>\n",
       "      <td>100.0</td>\n",
       "      <td>200</td>\n",
       "      <td>FINCH</td>\n",
       "      <td>NaN</td>\n",
       "      <td>0</td>\n",
       "    </tr>\n",
       "    <tr>\n",
       "      <th>1</th>\n",
       "      <td>1990</td>\n",
       "      <td>2</td>\n",
       "      <td>NaN</td>\n",
       "      <td>DAY</td>\n",
       "      <td>50.0</td>\n",
       "      <td>110</td>\n",
       "      <td>UNKNOWN MEDIUM BIRD</td>\n",
       "      <td>NaN</td>\n",
       "      <td>0</td>\n",
       "    </tr>\n",
       "    <tr>\n",
       "      <th>2</th>\n",
       "      <td>1990</td>\n",
       "      <td>2</td>\n",
       "      <td>NaN</td>\n",
       "      <td>DAY</td>\n",
       "      <td>800.0</td>\n",
       "      <td>140</td>\n",
       "      <td>UNKNOWN MEDIUM BIRD</td>\n",
       "      <td>NaN</td>\n",
       "      <td>0</td>\n",
       "    </tr>\n",
       "    <tr>\n",
       "      <th>3</th>\n",
       "      <td>1990</td>\n",
       "      <td>2</td>\n",
       "      <td>No</td>\n",
       "      <td>NIGHT</td>\n",
       "      <td>10000.0</td>\n",
       "      <td>250</td>\n",
       "      <td>HAWK</td>\n",
       "      <td>NaN</td>\n",
       "      <td>1</td>\n",
       "    </tr>\n",
       "    <tr>\n",
       "      <th>4</th>\n",
       "      <td>1990</td>\n",
       "      <td>3</td>\n",
       "      <td>NaN</td>\n",
       "      <td>NIGHT</td>\n",
       "      <td>1700.0</td>\n",
       "      <td>170</td>\n",
       "      <td>UNKNOWN MEDIUM BIRD</td>\n",
       "      <td>NaN</td>\n",
       "      <td>0</td>\n",
       "    </tr>\n",
       "    <tr>\n",
       "      <th>...</th>\n",
       "      <td>...</td>\n",
       "      <td>...</td>\n",
       "      <td>...</td>\n",
       "      <td>...</td>\n",
       "      <td>...</td>\n",
       "      <td>...</td>\n",
       "      <td>...</td>\n",
       "      <td>...</td>\n",
       "      <td>...</td>\n",
       "    </tr>\n",
       "    <tr>\n",
       "      <th>15809</th>\n",
       "      <td>2015</td>\n",
       "      <td>9</td>\n",
       "      <td>No</td>\n",
       "      <td>NIGHT</td>\n",
       "      <td>1200.0</td>\n",
       "      <td>155</td>\n",
       "      <td>UNKNOWN SMALL BIRD</td>\n",
       "      <td>NaN</td>\n",
       "      <td>0</td>\n",
       "    </tr>\n",
       "    <tr>\n",
       "      <th>15810</th>\n",
       "      <td>2015</td>\n",
       "      <td>9</td>\n",
       "      <td>Yes</td>\n",
       "      <td>NIGHT</td>\n",
       "      <td>5500.0</td>\n",
       "      <td>250</td>\n",
       "      <td>INDIGO BUNTING</td>\n",
       "      <td>NaN</td>\n",
       "      <td>0</td>\n",
       "    </tr>\n",
       "    <tr>\n",
       "      <th>15811</th>\n",
       "      <td>2015</td>\n",
       "      <td>9</td>\n",
       "      <td>NaN</td>\n",
       "      <td>NIGHT</td>\n",
       "      <td>1000.0</td>\n",
       "      <td>125</td>\n",
       "      <td>UNKNOWN MEDIUM BIRD</td>\n",
       "      <td>NaN</td>\n",
       "      <td>0</td>\n",
       "    </tr>\n",
       "    <tr>\n",
       "      <th>15812</th>\n",
       "      <td>2015</td>\n",
       "      <td>9</td>\n",
       "      <td>No</td>\n",
       "      <td>DAY</td>\n",
       "      <td>1300.0</td>\n",
       "      <td>120</td>\n",
       "      <td>HAWK</td>\n",
       "      <td>NaN</td>\n",
       "      <td>0</td>\n",
       "    </tr>\n",
       "    <tr>\n",
       "      <th>15813</th>\n",
       "      <td>2015</td>\n",
       "      <td>9</td>\n",
       "      <td>No</td>\n",
       "      <td>DAY</td>\n",
       "      <td>5000.0</td>\n",
       "      <td>250</td>\n",
       "      <td>UNKNOWN SMALL BIRD</td>\n",
       "      <td>NaN</td>\n",
       "      <td>0</td>\n",
       "    </tr>\n",
       "  </tbody>\n",
       "</table>\n",
       "<p>15814 rows × 9 columns</p>\n",
       "</div>"
      ],
      "text/plain": [
       "       year  month warning visibility   height  speed         species name  \\\n",
       "0      1990      1     NaN        DAY    100.0    200                FINCH   \n",
       "1      1990      2     NaN        DAY     50.0    110  UNKNOWN MEDIUM BIRD   \n",
       "2      1990      2     NaN        DAY    800.0    140  UNKNOWN MEDIUM BIRD   \n",
       "3      1990      2      No      NIGHT  10000.0    250                 HAWK   \n",
       "4      1990      3     NaN      NIGHT   1700.0    170  UNKNOWN MEDIUM BIRD   \n",
       "...     ...    ...     ...        ...      ...    ...                  ...   \n",
       "15809  2015      9      No      NIGHT   1200.0    155   UNKNOWN SMALL BIRD   \n",
       "15810  2015      9     Yes      NIGHT   5500.0    250       INDIGO BUNTING   \n",
       "15811  2015      9     NaN      NIGHT   1000.0    125  UNKNOWN MEDIUM BIRD   \n",
       "15812  2015      9      No        DAY   1300.0    120                 HAWK   \n",
       "15813  2015      9      No        DAY   5000.0    250   UNKNOWN SMALL BIRD   \n",
       "\n",
       "       injuries  aircraft damage  \n",
       "0           NaN                0  \n",
       "1           NaN                0  \n",
       "2           NaN                0  \n",
       "3           NaN                1  \n",
       "4           NaN                0  \n",
       "...         ...              ...  \n",
       "15809       NaN                0  \n",
       "15810       NaN                0  \n",
       "15811       NaN                0  \n",
       "15812       NaN                0  \n",
       "15813       NaN                0  \n",
       "\n",
       "[15814 rows x 9 columns]"
      ]
     },
     "execution_count": 3,
     "metadata": {},
     "output_type": "execute_result"
    }
   ],
   "source": [
    "data"
   ]
  },
  {
   "cell_type": "markdown",
   "id": "540f1e93-5199-49a3-b9bd-0301e0a8414a",
   "metadata": {
    "tags": []
   },
   "source": [
    "***\n",
    "# Q1\n",
    "***"
   ]
  },
  {
   "cell_type": "code",
   "execution_count": 4,
   "id": "5eb2236a-49c0-4361-bca0-b8de585740a2",
   "metadata": {},
   "outputs": [
    {
     "data": {
      "text/html": [
       "<div>\n",
       "<style scoped>\n",
       "    .dataframe tbody tr th:only-of-type {\n",
       "        vertical-align: middle;\n",
       "    }\n",
       "\n",
       "    .dataframe tbody tr th {\n",
       "        vertical-align: top;\n",
       "    }\n",
       "\n",
       "    .dataframe thead th {\n",
       "        text-align: right;\n",
       "    }\n",
       "</style>\n",
       "<table border=\"1\" class=\"dataframe\">\n",
       "  <thead>\n",
       "    <tr style=\"text-align: right;\">\n",
       "      <th></th>\n",
       "      <th>species name</th>\n",
       "      <th>aircraft damage</th>\n",
       "      <th>injuries</th>\n",
       "    </tr>\n",
       "  </thead>\n",
       "  <tbody>\n",
       "    <tr>\n",
       "      <th>0</th>\n",
       "      <td>UNKNOWN MEDIUM BIRD</td>\n",
       "      <td>203</td>\n",
       "      <td>16.0</td>\n",
       "    </tr>\n",
       "    <tr>\n",
       "      <th>1</th>\n",
       "      <td>GULL</td>\n",
       "      <td>112</td>\n",
       "      <td>9.0</td>\n",
       "    </tr>\n",
       "    <tr>\n",
       "      <th>2</th>\n",
       "      <td>UNKNOWN SMALL BIRD</td>\n",
       "      <td>105</td>\n",
       "      <td>3.0</td>\n",
       "    </tr>\n",
       "  </tbody>\n",
       "</table>\n",
       "</div>"
      ],
      "text/plain": [
       "          species name  aircraft damage  injuries\n",
       "0  UNKNOWN MEDIUM BIRD              203      16.0\n",
       "1                 GULL              112       9.0\n",
       "2   UNKNOWN SMALL BIRD              105       3.0"
      ]
     },
     "execution_count": 4,
     "metadata": {},
     "output_type": "execute_result"
    }
   ],
   "source": [
    "filterd= data.loc[(data['aircraft damage'] == 1) | (data['injuries'] == 1)]\n",
    "df= filterd.groupby(['species name'])[['aircraft damage', 'injuries']].sum()\n",
    "df.sort_values('aircraft damage', ascending= False).head(3).reset_index()\n"
   ]
  },
  {
   "cell_type": "code",
   "execution_count": 5,
   "id": "07b09fe8-576e-47a5-b13d-c438167e425a",
   "metadata": {},
   "outputs": [
    {
     "data": {
      "image/png": "[encoded data removed]",
      "text/plain": [
       "<Figure size 432x288 with 1 Axes>"
      ]
     },
     "metadata": {
      "needs_background": "light"
     },
     "output_type": "display_data"
    }
   ],
   "source": [
    "ax = sns.scatterplot(data = df, y=\"aircraft damage\", x=\"injuries\")\n",
    "ax.set_yscale(\"log\")"
   ]
  },
  {
   "cell_type": "markdown",
   "id": "9dbff6a1-b6db-4058-9ba0-d065c2a9b665",
   "metadata": {},
   "source": [
    "***\n",
    "# Q2\n",
    "***"
   ]
  },
  {
   "cell_type": "code",
   "execution_count": 6,
   "id": "f400d0e8-dc1e-4396-8e41-066e4a545d35",
   "metadata": {},
   "outputs": [],
   "source": [
    "data['warning'].fillna('unknown', inplace= True)"
   ]
  },
  {
   "cell_type": "code",
   "execution_count": 9,
   "id": "d8ee6675-5342-43d3-9fb4-bc519c8e051e",
   "metadata": {},
   "outputs": [
    {
     "data": {
      "text/html": [
       "<div>\n",
       "<style scoped>\n",
       "    .dataframe tbody tr th:only-of-type {\n",
       "        vertical-align: middle;\n",
       "    }\n",
       "\n",
       "    .dataframe tbody tr th {\n",
       "        vertical-align: top;\n",
       "    }\n",
       "\n",
       "    .dataframe thead th {\n",
       "        text-align: right;\n",
       "    }\n",
       "</style>\n",
       "<table border=\"1\" class=\"dataframe\">\n",
       "  <thead>\n",
       "    <tr style=\"text-align: right;\">\n",
       "      <th></th>\n",
       "      <th>year</th>\n",
       "      <th>month</th>\n",
       "      <th>warning</th>\n",
       "      <th>visibility</th>\n",
       "      <th>height</th>\n",
       "      <th>speed</th>\n",
       "      <th>species name</th>\n",
       "      <th>injuries</th>\n",
       "      <th>aircraft damage</th>\n",
       "    </tr>\n",
       "  </thead>\n",
       "  <tbody>\n",
       "    <tr>\n",
       "      <th>8</th>\n",
       "      <td>1990</td>\n",
       "      <td>4</td>\n",
       "      <td>No</td>\n",
       "      <td>DAY</td>\n",
       "      <td>0.0</td>\n",
       "      <td>150</td>\n",
       "      <td>GULL</td>\n",
       "      <td>NaN</td>\n",
       "      <td>0</td>\n",
       "    </tr>\n",
       "    <tr>\n",
       "      <th>15</th>\n",
       "      <td>1990</td>\n",
       "      <td>5</td>\n",
       "      <td>No</td>\n",
       "      <td>NIGHT</td>\n",
       "      <td>400.0</td>\n",
       "      <td>180</td>\n",
       "      <td>GULL</td>\n",
       "      <td>NaN</td>\n",
       "      <td>0</td>\n",
       "    </tr>\n",
       "    <tr>\n",
       "      <th>16</th>\n",
       "      <td>1990</td>\n",
       "      <td>5</td>\n",
       "      <td>No</td>\n",
       "      <td>DAY</td>\n",
       "      <td>3200.0</td>\n",
       "      <td>160</td>\n",
       "      <td>DUCK</td>\n",
       "      <td>NaN</td>\n",
       "      <td>1</td>\n",
       "    </tr>\n",
       "    <tr>\n",
       "      <th>18</th>\n",
       "      <td>1990</td>\n",
       "      <td>5</td>\n",
       "      <td>unknown</td>\n",
       "      <td>DAY</td>\n",
       "      <td>0.0</td>\n",
       "      <td>120</td>\n",
       "      <td>GULL</td>\n",
       "      <td>NaN</td>\n",
       "      <td>0</td>\n",
       "    </tr>\n",
       "    <tr>\n",
       "      <th>19</th>\n",
       "      <td>1990</td>\n",
       "      <td>5</td>\n",
       "      <td>No</td>\n",
       "      <td>DAY</td>\n",
       "      <td>10.0</td>\n",
       "      <td>100</td>\n",
       "      <td>GULL</td>\n",
       "      <td>NaN</td>\n",
       "      <td>0</td>\n",
       "    </tr>\n",
       "    <tr>\n",
       "      <th>...</th>\n",
       "      <td>...</td>\n",
       "      <td>...</td>\n",
       "      <td>...</td>\n",
       "      <td>...</td>\n",
       "      <td>...</td>\n",
       "      <td>...</td>\n",
       "      <td>...</td>\n",
       "      <td>...</td>\n",
       "      <td>...</td>\n",
       "    </tr>\n",
       "    <tr>\n",
       "      <th>15529</th>\n",
       "      <td>2015</td>\n",
       "      <td>8</td>\n",
       "      <td>No</td>\n",
       "      <td>DAY</td>\n",
       "      <td>570.0</td>\n",
       "      <td>70</td>\n",
       "      <td>GULL</td>\n",
       "      <td>NaN</td>\n",
       "      <td>0</td>\n",
       "    </tr>\n",
       "    <tr>\n",
       "      <th>15549</th>\n",
       "      <td>2015</td>\n",
       "      <td>8</td>\n",
       "      <td>No</td>\n",
       "      <td>DAY</td>\n",
       "      <td>800.0</td>\n",
       "      <td>125</td>\n",
       "      <td>GULL</td>\n",
       "      <td>NaN</td>\n",
       "      <td>1</td>\n",
       "    </tr>\n",
       "    <tr>\n",
       "      <th>15681</th>\n",
       "      <td>2015</td>\n",
       "      <td>9</td>\n",
       "      <td>No</td>\n",
       "      <td>DAY</td>\n",
       "      <td>0.0</td>\n",
       "      <td>151</td>\n",
       "      <td>GULL</td>\n",
       "      <td>NaN</td>\n",
       "      <td>0</td>\n",
       "    </tr>\n",
       "    <tr>\n",
       "      <th>15780</th>\n",
       "      <td>2015</td>\n",
       "      <td>9</td>\n",
       "      <td>No</td>\n",
       "      <td>NIGHT</td>\n",
       "      <td>20.0</td>\n",
       "      <td>130</td>\n",
       "      <td>GULL</td>\n",
       "      <td>NaN</td>\n",
       "      <td>0</td>\n",
       "    </tr>\n",
       "    <tr>\n",
       "      <th>15785</th>\n",
       "      <td>2015</td>\n",
       "      <td>9</td>\n",
       "      <td>Yes</td>\n",
       "      <td>DAY</td>\n",
       "      <td>0.0</td>\n",
       "      <td>70</td>\n",
       "      <td>GULL</td>\n",
       "      <td>NaN</td>\n",
       "      <td>0</td>\n",
       "    </tr>\n",
       "  </tbody>\n",
       "</table>\n",
       "<p>757 rows × 9 columns</p>\n",
       "</div>"
      ],
      "text/plain": [
       "       year  month  warning visibility  height  speed species name  injuries  \\\n",
       "8      1990      4       No        DAY     0.0    150         GULL       NaN   \n",
       "15     1990      5       No      NIGHT   400.0    180         GULL       NaN   \n",
       "16     1990      5       No        DAY  3200.0    160         DUCK       NaN   \n",
       "18     1990      5  unknown        DAY     0.0    120         GULL       NaN   \n",
       "19     1990      5       No        DAY    10.0    100         GULL       NaN   \n",
       "...     ...    ...      ...        ...     ...    ...          ...       ...   \n",
       "15529  2015      8       No        DAY   570.0     70         GULL       NaN   \n",
       "15549  2015      8       No        DAY   800.0    125         GULL       NaN   \n",
       "15681  2015      9       No        DAY     0.0    151         GULL       NaN   \n",
       "15780  2015      9       No      NIGHT    20.0    130         GULL       NaN   \n",
       "15785  2015      9      Yes        DAY     0.0     70         GULL       NaN   \n",
       "\n",
       "       aircraft damage  \n",
       "8                    0  \n",
       "15                   0  \n",
       "16                   1  \n",
       "18                   0  \n",
       "19                   0  \n",
       "...                ...  \n",
       "15529                0  \n",
       "15549                1  \n",
       "15681                0  \n",
       "15780                0  \n",
       "15785                0  \n",
       "\n",
       "[757 rows x 9 columns]"
      ]
     },
     "execution_count": 9,
     "metadata": {},
     "output_type": "execute_result"
    }
   ],
   "source": [
    "comparison= data.loc[(data['species name'] == 'DUCK') | (data['species name'] == 'GULL')]\n",
    "comparison"
   ]
  },
  {
   "cell_type": "code",
   "execution_count": 10,
   "id": "73f89cad-2652-4d73-bc78-8a17323351d6",
   "metadata": {},
   "outputs": [
    {
     "data": {
      "text/plain": [
       "<AxesSubplot:xlabel='species name', ylabel='injuries'>"
      ]
     },
     "execution_count": 10,
     "metadata": {},
     "output_type": "execute_result"
    },
    {
     "data": {
      "image/png": "[encoded data removed]",
      "text/plain": [
       "<Figure size 432x288 with 1 Axes>"
      ]
     },
     "metadata": {
      "needs_background": "light"
     },
     "output_type": "display_data"
    }
   ],
   "source": [
    "sns.barplot(data = comparison, \n",
    "            hue = 'warning', y = \"injuries\", x = \"species name\")"
   ]
  },
  {
   "cell_type": "markdown",
   "id": "d42126b6-bac7-4d20-9c8b-81eb0d5fd9bf",
   "metadata": {},
   "source": [
    "***\n",
    "# Q3\n",
    "***"
   ]
  },
  {
   "cell_type": "code",
   "execution_count": 13,
   "id": "9c0a29e8-cc98-419c-b325-a4ed32bfc7ac",
   "metadata": {},
   "outputs": [
    {
     "data": {
      "text/plain": [
       "<AxesSubplot:xlabel='visibility', ylabel='speed'>"
      ]
     },
     "execution_count": 13,
     "metadata": {},
     "output_type": "execute_result"
    },
    {
     "data": {
      "image/png": "[encoded data removed]",
      "text/plain": [
       "<Figure size 432x288 with 1 Axes>"
      ]
     },
     "metadata": {
      "needs_background": "light"
     },
     "output_type": "display_data"
    }
   ],
   "source": [
    "##plt.figure(figsize=(10,5))\n",
    "sns.boxplot(data = data, y = \"speed\", x = \"visibility\")"
   ]
  },
  {
   "cell_type": "markdown",
   "id": "20f5a473-9e97-46ea-a57d-7a252974a8fd",
   "metadata": {},
   "source": [
    "***\n",
    "# Q4\n",
    "***"
   ]
  },
  {
   "cell_type": "code",
   "execution_count": 14,
   "id": "35397528-f322-4083-a0e4-786ac54dff3e",
   "metadata": {},
   "outputs": [],
   "source": [
    "features= ['height', 'speed', 'month', 'aircraft damage']"
   ]
  },
  {
   "cell_type": "code",
   "execution_count": 20,
   "id": "cce61c6f-1785-4468-8f4e-0acbaebd988a",
   "metadata": {},
   "outputs": [
    {
     "data": {
      "image/png": "[encoded data removed]",
      "text/plain": [
       "<Figure size 1080x360 with 3 Axes>"
      ]
     },
     "metadata": {
      "needs_background": "light"
     },
     "output_type": "display_data"
    }
   ],
   "source": [
    "fig, axes = plt.subplots(1,2,figsize=(15,5))\n",
    "ax = sns.heatmap(data[features].corr(),annot=True,cmap='Greens', ax = axes[0])\n",
    "ax = sns.scatterplot(data = data.loc[data[\"visibility\"] == \"NIGHT\"], y = \"height\", x = \"speed\", hue = \"aircraft damage\", ax = axes[1])"
   ]
  },
  {
   "cell_type": "code",
   "execution_count": null,
   "id": "988d2abe-843a-4a4d-8174-8564c5a0967a",
   "metadata": {},
   "outputs": [],
   "source": []
  }
 ],
 "metadata": {
  "kernelspec": {
   "display_name": "Python 3 (ipykernel)",
   "language": "python",
   "name": "python3"
  },
  "language_info": {
   "codemirror_mode": {
    "name": "ipython",
    "version": 3
   },
   "file_extension": ".py",
   "mimetype": "text/x-python",
   "name": "python",
   "nbconvert_exporter": "python",
   "pygments_lexer": "ipython3",
   "version": "3.8.8"
  }
 },
 "nbformat": 4,
 "nbformat_minor": 5
}
